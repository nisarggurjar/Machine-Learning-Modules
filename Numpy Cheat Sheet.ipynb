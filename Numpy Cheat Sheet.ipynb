{
 "cells": [
  {
   "cell_type": "markdown",
   "metadata": {},
   "source": [
    "# Importing Numpy, Initialising Array And Get it's Specifications"
   ]
  },
  {
   "cell_type": "code",
   "execution_count": 2,
   "metadata": {},
   "outputs": [],
   "source": [
    "#importing numpy and initialising an array\n",
    "import numpy as np\n",
    "a = np.array([1,2,3,4,5,6,7,8,9], dtype='int16')\n",
    "b = np.array([[1,2,3,4,5,6],[7,8,9,10,11,12]])"
   ]
  },
  {
   "cell_type": "code",
   "execution_count": 70,
   "metadata": {},
   "outputs": [
    {
     "name": "stdout",
     "output_type": "stream",
     "text": [
      "[[ 1.  2.  3.  4.]\n",
      " [ 3.  4.  5.  6.]\n",
      " [ 7.  8.  9. 10.]] \n",
      "\n",
      "[[ 1  2  3  4]\n",
      " [ 3  4  5  6]\n",
      " [ 7  8  9 10]]\n"
     ]
    }
   ],
   "source": [
    "#Get Array Data From Text File\n",
    "f = np.genfromtxt('data.txt', delimiter=',')\n",
    "print(f,'\\n')\n",
    "\n",
    "#Type Casting its Data Type\n",
    "f = f.astype('int32')\n",
    "print(f)"
   ]
  },
  {
   "cell_type": "code",
   "execution_count": 7,
   "metadata": {},
   "outputs": [
    {
     "data": {
      "text/plain": [
       "2"
      ]
     },
     "execution_count": 7,
     "metadata": {},
     "output_type": "execute_result"
    }
   ],
   "source": [
    "# To get Dimensionals\n",
    "b.ndim"
   ]
  },
  {
   "cell_type": "markdown",
   "metadata": {},
   "source": [
    "b.shape"
   ]
  },
  {
   "cell_type": "code",
   "execution_count": 12,
   "metadata": {},
   "outputs": [
    {
     "data": {
      "text/plain": [
       "dtype('int16')"
      ]
     },
     "execution_count": 12,
     "metadata": {},
     "output_type": "execute_result"
    }
   ],
   "source": [
    "# Size of a single element\n",
    "a.dtype"
   ]
  },
  {
   "cell_type": "code",
   "execution_count": 14,
   "metadata": {},
   "outputs": [
    {
     "data": {
      "text/plain": [
       "4"
      ]
     },
     "execution_count": 14,
     "metadata": {},
     "output_type": "execute_result"
    }
   ],
   "source": [
    "#size of element in byte\n",
    "b.itemsize"
   ]
  },
  {
   "cell_type": "code",
   "execution_count": 16,
   "metadata": {},
   "outputs": [
    {
     "data": {
      "text/plain": [
       "6"
      ]
     },
     "execution_count": 16,
     "metadata": {},
     "output_type": "execute_result"
    }
   ],
   "source": [
    "#total no. of elements\n",
    "b.size"
   ]
  },
  {
   "cell_type": "code",
   "execution_count": 18,
   "metadata": {},
   "outputs": [
    {
     "data": {
      "text/plain": [
       "24"
      ]
     },
     "execution_count": 18,
     "metadata": {},
     "output_type": "execute_result"
    }
   ],
   "source": [
    "# total size in bytes\n",
    "b.nbytes"
   ]
  },
  {
   "cell_type": "markdown",
   "metadata": {},
   "source": [
    "# Accesing Modifying Elements Of Array"
   ]
  },
  {
   "cell_type": "code",
   "execution_count": 20,
   "metadata": {},
   "outputs": [
    {
     "data": {
      "text/plain": [
       "6"
      ]
     },
     "execution_count": 20,
     "metadata": {},
     "output_type": "execute_result"
    }
   ],
   "source": [
    "# To get particular element (r,c)\n",
    "b[1,2]"
   ]
  },
  {
   "cell_type": "code",
   "execution_count": 24,
   "metadata": {},
   "outputs": [
    {
     "data": {
      "text/plain": [
       "array([1, 2, 3])"
      ]
     },
     "execution_count": 24,
     "metadata": {},
     "output_type": "execute_result"
    }
   ],
   "source": [
    "# To get a particular Row\n",
    "b[0,:]"
   ]
  },
  {
   "cell_type": "code",
   "execution_count": 25,
   "metadata": {},
   "outputs": [
    {
     "data": {
      "text/plain": [
       "array([3, 6])"
      ]
     },
     "execution_count": 25,
     "metadata": {},
     "output_type": "execute_result"
    }
   ],
   "source": [
    "# To get a particular Column\n",
    "b[:,2]"
   ]
  },
  {
   "cell_type": "code",
   "execution_count": 29,
   "metadata": {},
   "outputs": [
    {
     "data": {
      "text/plain": [
       "array([2, 4, 6])"
      ]
     },
     "execution_count": 29,
     "metadata": {},
     "output_type": "execute_result"
    }
   ],
   "source": [
    "#index Difference\n",
    "b[0,1:6:2]"
   ]
  },
  {
   "cell_type": "code",
   "execution_count": 31,
   "metadata": {},
   "outputs": [],
   "source": [
    "#to change a particular element \n",
    "b[1,2] = 15"
   ]
  },
  {
   "cell_type": "code",
   "execution_count": 33,
   "metadata": {},
   "outputs": [],
   "source": [
    "#to change a row/column (input should be of same shape)\n",
    "b[:,2] = [1,2]"
   ]
  },
  {
   "cell_type": "code",
   "execution_count": 36,
   "metadata": {},
   "outputs": [
    {
     "name": "stdout",
     "output_type": "stream",
     "text": [
      "Shape= (2, 2, 2)\n",
      "Dimension= 3\n"
     ]
    }
   ],
   "source": [
    "# Example Of 3-D Array\n",
    "c = np.array([[[1,2],[3,4]],[[5,6],[7,8]]])\n",
    "print('Shape=',c.shape)\n",
    "print('Dimension=',c.ndim)"
   ]
  },
  {
   "cell_type": "code",
   "execution_count": 38,
   "metadata": {},
   "outputs": [
    {
     "data": {
      "text/plain": [
       "4"
      ]
     },
     "execution_count": 38,
     "metadata": {},
     "output_type": "execute_result"
    }
   ],
   "source": [
    "#Get Specific element in 3D (traverse Outside-in)\n",
    "c[0,1,1]"
   ]
  },
  {
   "cell_type": "code",
   "execution_count": 41,
   "metadata": {},
   "outputs": [],
   "source": [
    "# Replacing in 3D array (both the sides should be of same Shape)\n",
    "c[:,1,:] = [[9, 9], [8, 8]]"
   ]
  },
  {
   "cell_type": "code",
   "execution_count": 44,
   "metadata": {},
   "outputs": [
    {
     "name": "stdout",
     "output_type": "stream",
     "text": [
      "[4 6]\n",
      "[ 4  6 10]\n"
     ]
    }
   ],
   "source": [
    "#Slicing\n",
    "\n",
    "a = np.array([[1,2,3,4],[3,4,5,6],[7,8,9,10]])\n",
    "print(a[0:2,3])\n",
    "print(a[0:,3])"
   ]
  },
  {
   "cell_type": "markdown",
   "metadata": {},
   "source": [
    "# Matrices of Same Value "
   ]
  },
  {
   "cell_type": "code",
   "execution_count": 53,
   "metadata": {},
   "outputs": [
    {
     "name": "stdout",
     "output_type": "stream",
     "text": [
      "1 D = [0 0 0 0 0]\n",
      "2 D= \n",
      " [[0. 0. 0.]\n",
      " [0. 0. 0.]\n",
      " [0. 0. 0.]]\n"
     ]
    }
   ],
   "source": [
    "#initialising all zero matrix (Take Shape as Argument, dtype(optional))\n",
    "print('1 D =',np.zeros(5,dtype='int16'))\n",
    "print('2 D= \\n',np.zeros((3,3)))"
   ]
  },
  {
   "cell_type": "code",
   "execution_count": 60,
   "metadata": {},
   "outputs": [
    {
     "data": {
      "text/plain": [
       "array([[[1, 1],\n",
       "        [1, 1]],\n",
       "\n",
       "       [[1, 1],\n",
       "        [1, 1]],\n",
       "\n",
       "       [[1, 1],\n",
       "        [1, 1]],\n",
       "\n",
       "       [[1, 1],\n",
       "        [1, 1]]], dtype=int16)"
      ]
     },
     "execution_count": 60,
     "metadata": {},
     "output_type": "execute_result"
    }
   ],
   "source": [
    "# All 1's matrix (Take Shape as Argument, dtype(optional))\n",
    "np.ones((4,2,2), dtype='int16')\n"
   ]
  },
  {
   "cell_type": "code",
   "execution_count": 63,
   "metadata": {},
   "outputs": [
    {
     "data": {
      "text/plain": [
       "array([[5, 5],\n",
       "       [5, 5]], dtype=int16)"
      ]
     },
     "execution_count": 63,
     "metadata": {},
     "output_type": "execute_result"
    }
   ],
   "source": [
    "#intialising all elements of an matrix with a particular number (Take Shape as Argument, value,  dtype(optional))\n",
    "np.full((2,2),5, dtype='int16')"
   ]
  },
  {
   "cell_type": "code",
   "execution_count": 70,
   "metadata": {},
   "outputs": [
    {
     "data": {
      "text/plain": [
       "array([[4, 4, 4, 4, 4, 4],\n",
       "       [4, 4, 4, 4, 4, 4]], dtype=int16)"
      ]
     },
     "execution_count": 70,
     "metadata": {},
     "output_type": "execute_result"
    }
   ],
   "source": [
    "#Array of shape of a reffernce array ( Refference Array, value,  dtype(optional))\n",
    "np.full_like(b,4,dtype='int16')"
   ]
  },
  {
   "cell_type": "markdown",
   "metadata": {},
   "source": [
    "#  Matrix of Random Value Elements "
   ]
  },
  {
   "cell_type": "code",
   "execution_count": 78,
   "metadata": {},
   "outputs": [
    {
     "data": {
      "text/plain": [
       "array([[0.7050897 , 0.03018649],\n",
       "       [0.09054809, 0.95960766],\n",
       "       [0.79005594, 0.99755681],\n",
       "       [0.16997494, 0.49141975]])"
      ]
     },
     "execution_count": 78,
     "metadata": {},
     "output_type": "execute_result"
    }
   ],
   "source": [
    "#Array of Random Float Values Between 0 and 1 (takes shape as argument) - exeption it tapes shape directly not in tuple format\n",
    "np.random.rand(4,2)"
   ]
  },
  {
   "cell_type": "code",
   "execution_count": 81,
   "metadata": {},
   "outputs": [
    {
     "data": {
      "text/plain": [
       "array([[0.39553411, 0.91404549, 0.97462912, 0.55808692, 0.21786793,\n",
       "        0.24489464],\n",
       "       [0.55154623, 0.70161714, 0.85906002, 0.57473915, 0.22056706,\n",
       "        0.47776053]])"
      ]
     },
     "execution_count": 81,
     "metadata": {},
     "output_type": "execute_result"
    }
   ],
   "source": [
    "#Array of float values (b/w 0 and 1) of shape of a reference array\n",
    "np.random.random_sample(b.shape)"
   ]
  },
  {
   "cell_type": "code",
   "execution_count": 83,
   "metadata": {},
   "outputs": [
    {
     "data": {
      "text/plain": [
       "array([[10,  9,  7],\n",
       "       [ 5, 10,  7],\n",
       "       [ 8,  8,  9]])"
      ]
     },
     "execution_count": 83,
     "metadata": {},
     "output_type": "execute_result"
    }
   ],
   "source": [
    "#Array of Random Integer Elements (Start, End, Size=(shape))\n",
    "np.random.randint(4,11,size=(3,3))"
   ]
  },
  {
   "cell_type": "markdown",
   "metadata": {},
   "source": [
    "# Matrix Operations "
   ]
  },
  {
   "cell_type": "code",
   "execution_count": 86,
   "metadata": {},
   "outputs": [
    {
     "data": {
      "text/plain": [
       "array([[1., 0., 0.],\n",
       "       [0., 1., 0.],\n",
       "       [0., 0., 1.]])"
      ]
     },
     "execution_count": 86,
     "metadata": {},
     "output_type": "execute_result"
    }
   ],
   "source": [
    "# Identity Matrix (order)\n",
    "np.identity(3)"
   ]
  },
  {
   "cell_type": "code",
   "execution_count": 104,
   "metadata": {},
   "outputs": [
    {
     "data": {
      "text/plain": [
       "array([[6., 6.],\n",
       "       [6., 6.]])"
      ]
     },
     "execution_count": 104,
     "metadata": {},
     "output_type": "execute_result"
    }
   ],
   "source": [
    "# Matrix Multiplication\n",
    "\n",
    "a = np.ones((2,3))\n",
    "b = np.full((3,2), 2)\n",
    "np.matmul(a,b)"
   ]
  },
  {
   "cell_type": "code",
   "execution_count": 106,
   "metadata": {},
   "outputs": [
    {
     "data": {
      "text/plain": [
       "1.0"
      ]
     },
     "execution_count": 106,
     "metadata": {},
     "output_type": "execute_result"
    }
   ],
   "source": [
    "#determinant of an Marix\n",
    "arr = np.identity(3)\n",
    "np.linalg.det(arr)"
   ]
  },
  {
   "cell_type": "code",
   "execution_count": 38,
   "metadata": {},
   "outputs": [
    {
     "data": {
      "text/plain": [
       "array([1. , 1.5, 2. , 2.5, 3. ])"
      ]
     },
     "execution_count": 38,
     "metadata": {},
     "output_type": "execute_result"
    }
   ],
   "source": [
    "# Linspace is used to create an array from a starting to ending point of equal differences\n",
    "#(Start, Ending, No. of Division)\n",
    "\n",
    "a = np.linspace(1,3,5)\n",
    "a"
   ]
  },
  {
   "cell_type": "markdown",
   "metadata": {},
   "source": [
    "# Manipulating The Array"
   ]
  },
  {
   "cell_type": "markdown",
   "metadata": {},
   "source": [
    "                                 Axis 0\n",
    "                                 Row\n",
    "                      O--------------------------->\n",
    "                      |\n",
    "                      |\n",
    "                      |\n",
    "        Axis 1        |\n",
    "        Column        |\n",
    "                      |\n",
    "                      |\n",
    "                      \\/"
   ]
  },
  {
   "cell_type": "code",
   "execution_count": 95,
   "metadata": {},
   "outputs": [
    {
     "name": "stdout",
     "output_type": "stream",
     "text": [
      "2\n"
     ]
    },
    {
     "data": {
      "text/plain": [
       "array([[1, 2, 3],\n",
       "       [1, 2, 3],\n",
       "       [1, 2, 3]])"
      ]
     },
     "execution_count": 95,
     "metadata": {},
     "output_type": "execute_result"
    }
   ],
   "source": [
    "# Repeat Array (refernce array, repeat count, axis(opt))\n",
    "arr = np.array([[1,2,3]])\n",
    "r = np.repeat(arr,3,axis=0)\n",
    "r"
   ]
  },
  {
   "cell_type": "code",
   "execution_count": 56,
   "metadata": {},
   "outputs": [
    {
     "data": {
      "text/plain": [
       "array([1, 2, 3, 2, 2, 4])"
      ]
     },
     "execution_count": 56,
     "metadata": {},
     "output_type": "execute_result"
    }
   ],
   "source": [
    "# Concatination\n",
    "\n",
    "a = np.array([1,2,3])\n",
    "b = np.array([2,2,4])\n",
    "\n",
    "np.concatenate((a,b), axis=0)"
   ]
  },
  {
   "cell_type": "code",
   "execution_count": 5,
   "metadata": {},
   "outputs": [
    {
     "data": {
      "text/plain": [
       "array([[1, 2, 3, 4],\n",
       "       [5, 6, 7, 8],\n",
       "       [1, 2, 3, 4]])"
      ]
     },
     "execution_count": 5,
     "metadata": {},
     "output_type": "execute_result"
    }
   ],
   "source": [
    "#Vertical Stacking (takes reference array(s) to stack)\n",
    "#Row Wise\n",
    "\n",
    "a = np.array([1,2,3,4])\n",
    "b = np.array([5,6,7,8])\n",
    "\n",
    "np.vstack([a,b,a])"
   ]
  },
  {
   "cell_type": "code",
   "execution_count": 7,
   "metadata": {},
   "outputs": [
    {
     "data": {
      "text/plain": [
       "array([1, 2, 3, 4, 5, 6, 7, 8, 5, 6, 7, 8, 1, 2, 3, 4])"
      ]
     },
     "execution_count": 7,
     "metadata": {},
     "output_type": "execute_result"
    }
   ],
   "source": [
    "#Horizonzal Stacking (takes reference array(s) to stack)\n",
    "#Column Wise\n",
    "\n",
    "np.hstack((a,b,b,a))"
   ]
  },
  {
   "cell_type": "code",
   "execution_count": 57,
   "metadata": {},
   "outputs": [
    {
     "data": {
      "text/plain": [
       "array([[1, 2],\n",
       "       [2, 2],\n",
       "       [3, 4]])"
      ]
     },
     "execution_count": 57,
     "metadata": {},
     "output_type": "execute_result"
    }
   ],
   "source": [
    "#Combining Column Wise Stack \n",
    "\n",
    "a = np.array([1,2,3])\n",
    "b = np.array([2,2,4])\n",
    "\n",
    "np.column_stack((a,b))"
   ]
  },
  {
   "cell_type": "code",
   "execution_count": 14,
   "metadata": {},
   "outputs": [
    {
     "name": "stdout",
     "output_type": "stream",
     "text": [
      "[[1 2 3 4]\n",
      " [5 6 7 8]] \n",
      " \n",
      " [[1 2]\n",
      " [3 4]\n",
      " [5 6]\n",
      " [7 8]]\n"
     ]
    }
   ],
   "source": [
    "#Reshaping Of Array - (array can be reshaped possibly till the size (r*c) remains same.)\n",
    "# Take shape (in form of tuple) as argumnent\n",
    "\n",
    "a = np.array([[1,2,3,4],[5,6,7,8]])\n",
    "\n",
    "b = a.reshape((4,2))\n",
    "c = a.reshape((2,2,2))\n",
    "\n",
    "print(a,'\\n \\n',b)"
   ]
  },
  {
   "cell_type": "code",
   "execution_count": 47,
   "metadata": {},
   "outputs": [
    {
     "name": "stdout",
     "output_type": "stream",
     "text": [
      "[ 1  2  3  4  5  6  7  8  9 10 11 12]\n"
     ]
    },
    {
     "data": {
      "text/plain": [
       "2"
      ]
     },
     "execution_count": 47,
     "metadata": {},
     "output_type": "execute_result"
    }
   ],
   "source": [
    "# Converting a Multidimentional array into 1-D\n",
    "\n",
    "b = np.array([[1,2,3,4,5,6],[7,8,9,10,11,12]])     #2D\n",
    "print(b.ravel())                                   #1D"
   ]
  },
  {
   "cell_type": "markdown",
   "metadata": {},
   "source": [
    "# Mathematics "
   ]
  },
  {
   "cell_type": "code",
   "execution_count": 3,
   "metadata": {},
   "outputs": [
    {
     "name": "stdout",
     "output_type": "stream",
     "text": [
      "[3 4 5 6]\n",
      "[-1  0  1  2]\n",
      "[0.5 1.  1.5 2. ]\n",
      "[2 4 6 8]\n",
      "[  1  16  81 256]\n"
     ]
    }
   ],
   "source": [
    "# Applying Mathematical operations between an array and a number \n",
    "\n",
    "a = np.array([1,2,3,4])\n",
    "print(a+2)      #Sum\n",
    "print(a-2)      #Difference\n",
    "print(a/2)      #Division\n",
    "print(a*2)      #Multiplicatrion\n",
    "print(a**4)     #power\n"
   ]
  },
  {
   "cell_type": "code",
   "execution_count": 105,
   "metadata": {},
   "outputs": [
    {
     "name": "stdout",
     "output_type": "stream",
     "text": [
      "[2 4 6 6]\n",
      "[0 0 0 2]\n",
      "[1. 1. 1. 2.]\n",
      "[1 4 9 8]\n",
      "[ 1  4 27 16]\n"
     ]
    }
   ],
   "source": [
    "# Applying Mathematical operations between two arrays\n",
    "\n",
    "a = np.array([1,2,3,4])\n",
    "b = np.array([1,2,3,2])\n",
    "\n",
    "print(a+b)      #Sum\n",
    "print(a-b)      #Difference\n",
    "print(a/b)      #Division\n",
    "print(a*b)      #Multiplicatrion\n",
    "print(a**b)     #power"
   ]
  },
  {
   "cell_type": "code",
   "execution_count": 17,
   "metadata": {},
   "outputs": [
    {
     "name": "stdout",
     "output_type": "stream",
     "text": [
      "Sum = [ 5  7  9 11]\n",
      "Difference = [-3 -3 -3 -3]\n",
      "Division = [0.25       0.4        0.5        0.57142857]\n",
      "Multiplication = [ 4 10 18 28]\n",
      "Power = [    1    32   729 16384]\n"
     ]
    }
   ],
   "source": [
    "# Mathecatical Operations Using in-built functions\n",
    "\n",
    "a = np.array([1,2,3,4])\n",
    "b = np.array([4,5,6,7])\n",
    "\n",
    "print(\"Sum =\",np.add(a,b))                    #Sum\n",
    "print(\"Difference =\",np.subtract(a,b))        #Difference\n",
    "print(\"Division =\", np.divide(a,b))           #Division\n",
    "print(\"Multiplication =\",np.multiply(a,b))    #Multiplicatrion\n",
    "print(\"Power =\",np.power(a,b))                #power\n"
   ]
  },
  {
   "cell_type": "markdown",
   "metadata": {},
   "source": [
    "# Array Comparision"
   ]
  },
  {
   "cell_type": "code",
   "execution_count": 25,
   "metadata": {},
   "outputs": [
    {
     "name": "stdout",
     "output_type": "stream",
     "text": [
      "Element Wise = [False  True False]\n",
      "Array Wise = False\n"
     ]
    }
   ],
   "source": [
    "a = np.array([1,2,3])\n",
    "b = np.array([2,2,4])\n",
    "\n",
    "#ELEMENT WISE\n",
    "print(\"Element Wise =\",np.equal(a,b))\n",
    "\n",
    "#ARRAY WISE\n",
    "print(\"Array Wise =\",np.array_equal(a,b))"
   ]
  },
  {
   "cell_type": "markdown",
   "metadata": {},
   "source": [
    "# Aggregate Functions"
   ]
  },
  {
   "cell_type": "code",
   "execution_count": 34,
   "metadata": {},
   "outputs": [
    {
     "name": "stdout",
     "output_type": "stream",
     "text": [
      "[21 57]\n",
      "1\n",
      "2.3333333333333335\n",
      "2.0\n",
      "1.0\n",
      "1.247219128924647\n",
      "[1.         1.41421356 2.        ]\n"
     ]
    }
   ],
   "source": [
    "#aggregatw functions take argument (array, opt(axis))\n",
    "\n",
    "a = np.array([1,2,4])\n",
    "b = np.array([[1,2,3,4,5,6],[7,8,9,10,11,12]])\n",
    "\n",
    "print(np.sum(b, axis=1))   #Sum\n",
    "print(np.min(a))           #Minimum\n",
    "print(np.mean(a))          #Mean\n",
    "print(np.median(a))        #Median\n",
    "print(np.corrcoef(a))      #Correlation Coefficient of Array\n",
    "print(np.std(a))           #Standard Deviation of Array\n",
    "\n",
    "print(np.sqrt(a))          #Square Root"
   ]
  },
  {
   "cell_type": "markdown",
   "metadata": {},
   "source": [
    "\n",
    "#  Mathematical Functions"
   ]
  },
  {
   "cell_type": "code",
   "execution_count": 53,
   "metadata": {},
   "outputs": [
    {
     "name": "stdout",
     "output_type": "stream",
     "text": [
      "[ 2.71828183  7.3890561  20.08553692]\n",
      "[0.         0.69314718 1.09861229]\n",
      "[0.         0.30103    0.47712125]\n",
      "[0.84147098 0.90929743 0.14112001]\n",
      "[ 0.54030231 -0.41614684 -0.9899925 ]\n",
      "[ 1.55740772 -2.18503986 -0.14254654]\n",
      "[1 4 9]\n"
     ]
    }
   ],
   "source": [
    "a = np.array([1,2,3])\n",
    "\n",
    "print(np.exp(a))    #Exponential\n",
    "print(np.log(a))    #Natural Log, ln (Base e)\n",
    "print(np.log10(a))  #Log base 10\n",
    "print(np.sin(a))    #Sin\n",
    "print(np.cos(a))    #Cos\n",
    "print(np.tan(a))    #Tan\n",
    "print(np.square(a)) #Square"
   ]
  },
  {
   "cell_type": "markdown",
   "metadata": {},
   "source": [
    "# Conditional Statement in Array"
   ]
  },
  {
   "cell_type": "code",
   "execution_count": 81,
   "metadata": {},
   "outputs": [
    {
     "name": "stdout",
     "output_type": "stream",
     "text": [
      "[[ 1  2  3  4]\n",
      " [ 3  4  5  6]\n",
      " [ 7  8  9 10]] \n",
      "\n",
      "[[False False False False]\n",
      " [False False False False]\n",
      " [ True  True  True  True]] \n",
      "\n",
      "[ 7  8  9 10]\n"
     ]
    }
   ],
   "source": [
    "print(f,'\\n')\n",
    "\n",
    "print(f>6,'\\n')\n",
    "\n",
    "print(f[f>6])"
   ]
  },
  {
   "cell_type": "code",
   "execution_count": 85,
   "metadata": {},
   "outputs": [
    {
     "data": {
      "text/plain": [
       "array([False, False,  True,  True])"
      ]
     },
     "execution_count": 85,
     "metadata": {},
     "output_type": "execute_result"
    }
   ],
   "source": [
    "#Any\n",
    "\n",
    "np.any(f>8, axis=0)"
   ]
  },
  {
   "cell_type": "code",
   "execution_count": 90,
   "metadata": {},
   "outputs": [
    {
     "data": {
      "text/plain": [
       "array([False, False,  True,  True])"
      ]
     },
     "execution_count": 90,
     "metadata": {},
     "output_type": "execute_result"
    }
   ],
   "source": [
    "#All \n",
    "\n",
    "np.all(f>2, axis=0)"
   ]
  },
  {
   "cell_type": "code",
   "execution_count": 97,
   "metadata": {},
   "outputs": [
    {
     "name": "stdout",
     "output_type": "stream",
     "text": [
      "[[ True  True  True  True]\n",
      " [ True  True  True  True]\n",
      " [ True  True  True  True]]\n",
      "[[False False False False]\n",
      " [False False False  True]\n",
      " [ True  True  True False]]\n"
     ]
    }
   ],
   "source": [
    "#Multiple Conditions\n",
    "\n",
    "print((f>5) | (f<10))\n",
    "\n",
    "print((f>5) & (f<10))"
   ]
  },
  {
   "cell_type": "markdown",
   "metadata": {},
   "source": [
    "# Comparing Size Of Array Vs List"
   ]
  },
  {
   "cell_type": "code",
   "execution_count": 100,
   "metadata": {},
   "outputs": [
    {
     "name": "stdout",
     "output_type": "stream",
     "text": [
      "size of list = 28000\n",
      "Size of array = 4000\n"
     ]
    }
   ],
   "source": [
    "#Method Teached In Class\n",
    "\n",
    "import sys \n",
    "li = range(1000)\n",
    "print(\"size of list =\", sys.getsizeof(5)*len(li))\n",
    "\n",
    "arr = np.arange(1000)\n",
    "print(\"Size of array =\",arr.size*arr.itemsize)"
   ]
  },
  {
   "cell_type": "code",
   "execution_count": 103,
   "metadata": {},
   "outputs": [
    {
     "name": "stdout",
     "output_type": "stream",
     "text": [
      "size of list = 9112\n",
      "Size of array = 4096\n"
     ]
    }
   ],
   "source": [
    "#My Method\n",
    "\n",
    "import sys\n",
    "li = range(1000)\n",
    "li = list(li)\n",
    "print(\"size of list =\", sys.getsizeof(li))\n",
    "\n",
    "arr = np.arange(1000)\n",
    "print(\"Size of array =\", sys.getsizeof(arr))\n"
   ]
  },
  {
   "cell_type": "markdown",
   "metadata": {},
   "source": [
    "# Comparision on the Basis of Speed"
   ]
  },
  {
   "cell_type": "code",
   "execution_count": 105,
   "metadata": {},
   "outputs": [
    {
     "name": "stdout",
     "output_type": "stream",
     "text": [
      "list time = 179.29816246032715\n",
      "list time = 46.84782028198242\n"
     ]
    }
   ],
   "source": [
    "import time\n",
    "\n",
    "size = 1000000\n",
    "l1 = range(size)\n",
    "l2 = range(size)\n",
    "\n",
    "a1 = np.arange(size)\n",
    "a2 = np.arange(size)\n",
    "\n",
    "start = time.time()\n",
    "\n",
    "result = [(x,y) for x,y in zip(l1,l2)]\n",
    "print(\"list time =\", (time.time()-start)*1000)       #To convert into millisecond\n",
    "\n",
    "start = time.time()\n",
    "\n",
    "result = a1=a2\n",
    "print(\"list time =\", (time.time()-start)*1000)       #To convert into millisecond\n"
   ]
  },
  {
   "cell_type": "markdown",
   "metadata": {},
   "source": [
    "# Ploting Via Matplotlib"
   ]
  },
  {
   "cell_type": "code",
   "execution_count": 111,
   "metadata": {},
   "outputs": [
    {
     "data": {
      "image/png": "[encoded data removed]",
      "text/plain": [
       "<Figure size 432x288 with 1 Axes>"
      ]
     },
     "metadata": {
      "needs_background": "light"
     },
     "output_type": "display_data"
    }
   ],
   "source": [
    "import matplotlib.pyplot as plt\n",
    "x = np.arange(0,3*np.pi,0.1)\n",
    "y = np.sin(x)\n",
    "plt.plot(x,y)\n",
    "plt.show()"
   ]
  },
  {
   "cell_type": "markdown",
   "metadata": {},
   "source": [
    "# Concept Of Broadcasting"
   ]
  },
  {
   "cell_type": "markdown",
   "metadata": {},
   "source": [
    "When aggregate and mathematical functions are apllied on arrays of diffrent dimensions then compiler does internal stacking to make the arrays of same dimensional and shape so that functions can be applied"
   ]
  },
  {
   "cell_type": "code",
   "execution_count": 113,
   "metadata": {},
   "outputs": [
    {
     "name": "stdout",
     "output_type": "stream",
     "text": [
      "[[ 0  1  2]\n",
      " [10 11 12]\n",
      " [20 21 22]\n",
      " [30 31 32]]\n"
     ]
    }
   ],
   "source": [
    "a = np.array([[0,0,0],[10,10,10],[20,20,20],[30,30,30]])\n",
    "b = np.array([0,1,2])\n",
    "\n",
    "print(a+b)"
   ]
  },
  {
   "cell_type": "raw",
   "metadata": {},
   "source": [
    "\n",
    "-------------\n",
    "|0  |0  |0  |\n",
    "-------------\n",
    "|10 |10 |10 |\n",
    "-------------              \n",
    "|20 |20 |20 |\n",
    "-------------\n",
    "|30 |30 |30 |\n",
    "-------------\n",
    "\n",
    "     ADD\n",
    "     \n",
    "\n",
    "-------------\n",
    "|0  |1  |2  |\n",
    "-------------\n",
    "|0  |1  |2  |\n",
    "-------------\n",
    "|0  |1  |2  |\n",
    "-------------\n",
    "|0  |1  |2  |\n",
    "-------------\n"
   ]
  },
  {
   "cell_type": "code",
   "execution_count": 2,
   "metadata": {},
   "outputs": [
    {
     "name": "stdout",
     "output_type": "stream",
     "text": [
      "[array([[1, 2, 3]]), array([[4, 5, 6]])]\n",
      "[array([[1],\n",
      "       [4]]), array([[2],\n",
      "       [5]]), array([[3],\n",
      "       [6]])]\n",
      "[array([[1],\n",
      "       [4]]), array([[2],\n",
      "       [5]]), array([[3],\n",
      "       [6]])]\n"
     ]
    }
   ],
   "source": [
    "# Spliting The Array arguments - (array, index, axis)\n",
    "\n",
    "a= np.array([[1,2,3],[4,5,6]])\n",
    "\n",
    "print(np.split(a,2,0))\n",
    "print(np.split(a,3,1))\n",
    "print(np.split(a,[1,2],1))\n"
   ]
  },
  {
   "cell_type": "code",
   "execution_count": null,
   "metadata": {},
   "outputs": [],
   "source": []
  }
 ],
 "metadata": {
  "kernelspec": {
   "display_name": "Python 3",
   "language": "python",
   "name": "python3"
  },
  "language_info": {
   "codemirror_mode": {
    "name": "ipython",
    "version": 3
   },
   "file_extension": ".py",
   "mimetype": "text/x-python",
   "name": "python",
   "nbconvert_exporter": "python",
   "pygments_lexer": "ipython3",
   "version": "3.7.3"
  }
 },
 "nbformat": 4,
 "nbformat_minor": 2
}
